{
 "cells": [
  {
   "cell_type": "code",
   "execution_count": 1,
   "metadata": {},
   "outputs": [],
   "source": [
    "import os\n",
    "from pymilvus import MilvusClient\n",
    "from langchain_community.document_loaders import PyPDFLoader\n",
    "from langchain.text_splitter import RecursiveCharacterTextSplitter\n",
    "from langchain.chains import RetrievalQA\n",
    "from langchain_milvus import Milvus\n",
    "from langchain_huggingface import HuggingFaceEmbeddings\n",
    "from langchain.callbacks.manager import CallbackManager\n",
    "from langchain.callbacks import StreamingStdOutCallbackHandler\n",
    "from langchain import hub\n",
    "\n",
    "import warnings\n",
    "from langchain_ollama import OllamaLLM"
   ]
  },
  {
   "cell_type": "code",
   "execution_count": 2,
   "metadata": {},
   "outputs": [],
   "source": [
    "path_pdfs = \"megapidoc/\"\n",
    "\n",
    "documents = []\n",
    "for file in os.listdir(path_pdfs):\n",
    "    if file.endswith(\".pdf\"):\n",
    "        pdf_path = os.path.join(path_pdfs, file)\n",
    "        # print(pdf_path)\n",
    "        loader = PyPDFLoader(pdf_path)\n",
    "        documents.extend(loader.load())"
   ]
  },
  {
   "cell_type": "code",
   "execution_count": 3,
   "metadata": {},
   "outputs": [
    {
     "name": "stdout",
     "output_type": "stream",
     "text": [
      "Collection exists\n"
     ]
    }
   ],
   "source": [
    "## Connect to Milvus\n",
    "MILVUS_URL = \"./rag101.db\"\n",
    "\n",
    "client = MilvusClient(uri=MILVUS_URL)\n",
    "\n",
    "if client.has_collection(\"LangChainCollection\"):\n",
    "    print(\"Collection exists\")\n",
    "else:\n",
    "    client.drop_collection(\"LangChainCollection\")"
   ]
  },
  {
   "cell_type": "code",
   "execution_count": 4,
   "metadata": {},
   "outputs": [
    {
     "name": "stderr",
     "output_type": "stream",
     "text": [
      "/home/kin/Documents/local_rag/.venv/lib/python3.10/site-packages/sentence_transformers/cross_encoder/CrossEncoder.py:13: TqdmExperimentalWarning: Using `tqdm.autonotebook.tqdm` in notebook mode. Use `tqdm.tqdm` instead to force console mode (e.g. in jupyter console)\n",
      "  from tqdm.autonotebook import tqdm, trange\n"
     ]
    }
   ],
   "source": [
    "embeddings = HuggingFaceEmbeddings(model_name=\"all-MiniLM-L6-v2\")"
   ]
  },
  {
   "cell_type": "code",
   "execution_count": 5,
   "metadata": {},
   "outputs": [],
   "source": [
    "text_splitter = RecursiveCharacterTextSplitter(chunk_size=500, chunk_overlap=100)\n",
    "\n",
    "all_splits = text_splitter.split_documents(documents)"
   ]
  },
  {
   "cell_type": "code",
   "execution_count": 6,
   "metadata": {},
   "outputs": [],
   "source": [
    "model_kwargs = {\"device\": \"cpu\", \"trust_remote_code\": True}\n",
    "\n",
    "embeddings = HuggingFaceEmbeddings(model_name=\"jinaai/jina-embeddings-v2-base-de\",  model_kwargs=model_kwargs)\n",
    "\n",
    "vectorstore = Milvus.from_documents( \n",
    "    documents=documents,\n",
    "    embedding=embeddings,\n",
    "    connection_args={\n",
    "        \"uri\": MILVUS_URL,\n",
    "    },\n",
    "    drop_old=False,  \n",
    ")\n"
   ]
  },
  {
   "cell_type": "code",
   "execution_count": 9,
   "metadata": {},
   "outputs": [],
   "source": [
    "# Suppress all warnings from the langsmith.client module\n",
    "warnings.filterwarnings(\"ignore\", module=\"langsmith.client\")\n",
    "\n",
    "def run_query(query: str) -> str:\n",
    "    llm = OllamaLLM(\n",
    "        model=\"llama3.2\",\n",
    "        callbacks=[StreamingStdOutCallbackHandler()],\n",
    "        stop=[\"<|eot_id|>\"],\n",
    "    )\n",
    "\n",
    "    prompt = hub.pull(\"rlm/rag-prompt\")\n",
    "\n",
    "    qa_chain = RetrievalQA.from_chain_type(\n",
    "        llm, retriever=vectorstore.as_retriever(), chain_type_kwargs={\"prompt\": prompt}\n",
    "    )\n",
    "\n",
    "    result = qa_chain.invoke({\"query\": query})\n",
    "    return result"
   ]
  },
  {
   "cell_type": "code",
   "execution_count": 10,
   "metadata": {},
   "outputs": [
    {
     "name": "stdout",
     "output_type": "stream",
     "text": [
      "The function that lists all songs from a specific album in the music_library table is `list_all_songs_from_album`."
     ]
    }
   ],
   "source": [
    "query = \"What is the name of the function that lists all songs from a specific album in the music_library table?\"\n",
    "response = run_query(query)"
   ]
  },
  {
   "cell_type": "code",
   "execution_count": 11,
   "metadata": {},
   "outputs": [
    {
     "data": {
      "text/plain": [
       "{'query': 'What is the name of the function that lists all songs from a specific album in the music_library table?',\n",
       " 'result': 'The function that lists all songs from a specific album in the music_library table is `list_all_songs_from_album`.'}"
      ]
     },
     "execution_count": 11,
     "metadata": {},
     "output_type": "execute_result"
    }
   ],
   "source": [
    "response"
   ]
  },
  {
   "cell_type": "code",
   "execution_count": 13,
   "metadata": {},
   "outputs": [
    {
     "data": {
      "text/plain": [
       "'The function that lists all songs from a specific album in the music_library table is `list_all_songs_from_album`.'"
      ]
     },
     "execution_count": 13,
     "metadata": {},
     "output_type": "execute_result"
    }
   ],
   "source": [
    "response['result']"
   ]
  }
 ],
 "metadata": {
  "kernelspec": {
   "display_name": ".venv",
   "language": "python",
   "name": "python3"
  },
  "language_info": {
   "codemirror_mode": {
    "name": "ipython",
    "version": 3
   },
   "file_extension": ".py",
   "mimetype": "text/x-python",
   "name": "python",
   "nbconvert_exporter": "python",
   "pygments_lexer": "ipython3",
   "version": "3.10.12"
  }
 },
 "nbformat": 4,
 "nbformat_minor": 2
}
